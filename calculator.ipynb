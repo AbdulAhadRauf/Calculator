{
  "nbformat": 4,
  "nbformat_minor": 0,
  "metadata": {
    "colab": {
      "provenance": [],
      "authorship_tag": "ABX9TyMHJJGi3/HHaJX9HkVriaJY",
      "include_colab_link": true
    },
    "kernelspec": {
      "name": "python3",
      "display_name": "Python 3"
    },
    "language_info": {
      "name": "python"
    }
  },
  "cells": [
    {
      "cell_type": "markdown",
      "metadata": {
        "id": "view-in-github",
        "colab_type": "text"
      },
      "source": [
        "<a href=\"https://colab.research.google.com/github/AbdulAhadRauf/Calculator/blob/main/calculator.ipynb\" target=\"_parent\"><img src=\"https://colab.research.google.com/assets/colab-badge.svg\" alt=\"Open In Colab\"/></a>"
      ]
    },
    {
      "cell_type": "markdown",
      "source": [
        "# Calculator\n"
      ],
      "metadata": {
        "id": "yvW4n9c32bY7"
      }
    },
    {
      "cell_type": "code",
      "source": [
        "def add(n1,n2):\n",
        "  return n1+n2\n",
        "def sub(n1,n2):\n",
        "  return n1-n2\n",
        "def mul(n1,n2):\n",
        "  return n1*n2\n",
        "def divi(n1,n2):\n",
        "  return n1/n2"
      ],
      "metadata": {
        "id": "g4I3EQFLD4iq"
      },
      "execution_count": 21,
      "outputs": []
    },
    {
      "cell_type": "code",
      "source": [
        "from google.colab import output\n",
        "def calculator():\n",
        "  n1 = float(input(\"Enter Number 1: \"))\n",
        "  operations={\n",
        "      \"+\":add,\n",
        "      \"-\":sub,\n",
        "      \"*\": mul,\n",
        "      \"/\": divi\n",
        "  }\n",
        "  for i in operations:\n",
        "    print(i)\n",
        "  flag = True\n",
        "  while flag:\n",
        "    symbol = input(\"Enter the symbol: \")\n",
        "    while symbol not in operations:\n",
        "      symbol = input(\"enter a valid symbol: \")\n",
        "    n2 = float(input(\"Enter Number 2: \"))\n",
        "\n",
        "    answer = operations[symbol](n1,n2)\n",
        "    print(f\"{n1} {symbol} {n2} = {answer}\")\n",
        "    #start over or exit\n",
        "    dir = input(\"'Y' to continue , 'N' to start over, 'exit' to exit: \").lower()\n",
        "    if dir == \"y\":\n",
        "      flag = True\n",
        "      n1=answer\n",
        "    elif dir ==\"n\":\n",
        "      flag = False\n",
        "      output.clear()\n",
        "      calculator()\n",
        "    else:\n",
        "      flag = False"
      ],
      "metadata": {
        "id": "gj7iVIIrD4eZ"
      },
      "execution_count": 40,
      "outputs": []
    },
    {
      "cell_type": "code",
      "source": [
        "calculator()"
      ],
      "metadata": {
        "colab": {
          "base_uri": "https://localhost:8080/"
        },
        "id": "2tPnzk_fHZkS",
        "outputId": "f9145702-dbe2-4bbb-b601-a99b0d603d11"
      },
      "execution_count": 41,
      "outputs": [
        {
          "name": "stdout",
          "output_type": "stream",
          "text": [
            "Enter Number 1: 1\n",
            "+\n",
            "-\n",
            "*\n",
            "/\n",
            "Enter the symbol: +\n",
            "Enter Number 2: 1\n",
            "1.0 + 1.0 = 2.0\n",
            "'Y' to continue , 'N' to start over, 'exit' to exit: y\n",
            "Enter the symbol: 1\n",
            "enter a valid symbol: .\n",
            "enter a valid symbol: !\n",
            "enter a valid symbol: %\n",
            "enter a valid symbol: $\n",
            "enter a valid symbol: *\n",
            "Enter Number 2: 3\n",
            "2.0 * 3.0 = 6.0\n",
            "'Y' to continue , 'N' to start over, 'exit' to exit: y\n",
            "Enter the symbol: /\n",
            "Enter Number 2: 6\n",
            "6.0 / 6.0 = 1.0\n",
            "'Y' to continue , 'N' to start over, 'exit' to exit: exit please\n"
          ]
        }
      ]
    }
  ]
}